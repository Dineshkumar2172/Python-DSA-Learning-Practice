{
 "cells": [
  {
   "cell_type": "markdown",
   "id": "0afb5d45",
   "metadata": {},
   "source": [
    "# **Sorting Algorithm**"
   ]
  },
  {
   "cell_type": "code",
   "execution_count": 27,
   "id": "a9c835ab",
   "metadata": {},
   "outputs": [],
   "source": [
    "import random\n",
    "import copy\n",
    "\n",
    "sort_list = [i for i in range(30)]\n",
    "random.shuffle(sort_list)"
   ]
  },
  {
   "cell_type": "markdown",
   "id": "23f2037b",
   "metadata": {},
   "source": [
    "#### **Bubble Sort**"
   ]
  },
  {
   "cell_type": "code",
   "execution_count": 28,
   "id": "a60e8eb5",
   "metadata": {},
   "outputs": [
    {
     "name": "stdout",
     "output_type": "stream",
     "text": [
      "[0, 1, 2, 3, 4, 5, 6, 7, 8, 9, 10, 11, 12, 13, 14, 15, 16, 17, 18, 19, 20, 21, 22, 23, 24, 25, 26, 27, 28, 29]\n"
     ]
    }
   ],
   "source": [
    "# we iterate over each element from a given array for len(array) number of times\n",
    "# during each iteration, we need to compare the element with it's next element\n",
    "# perform swap if next element is less than the current element from a given array\n",
    "def execute_bubble_sort(input_list: list) -> list:\n",
    "    temp_input_list = copy.deepcopy(input_list)\n",
    "    for _ in range(len(temp_input_list)):\n",
    "        for idx in range(len(temp_input_list) - 1):\n",
    "            if temp_input_list[idx] > temp_input_list[idx + 1]:\n",
    "                temp = temp_input_list[idx]\n",
    "                temp_input_list[idx] = temp_input_list[idx + 1]\n",
    "                temp_input_list[idx + 1] = temp\n",
    "\n",
    "    return temp_input_list\n",
    "\n",
    "print(execute_bubble_sort(sort_list))"
   ]
  },
  {
   "cell_type": "markdown",
   "id": "20a801e7",
   "metadata": {},
   "source": [
    "#### **Insertion Sort**"
   ]
  },
  {
   "cell_type": "code",
   "execution_count": 34,
   "id": "d5a21bab",
   "metadata": {},
   "outputs": [
    {
     "name": "stdout",
     "output_type": "stream",
     "text": [
      "[0, 1, 2, 3, 4, 5, 6, 7, 8, 9, 10, 11, 12, 13, 14, 15, 16, 17, 18, 19, 20, 21, 22, 23, 24, 25, 26, 27, 28, 29]\n"
     ]
    }
   ],
   "source": [
    "# step 1: iterate over each element in the array start from index 1 (assuming index 0 is already sorted)\n",
    "# step 2: then we take a copy of the current element, then traverse over all the previous element from right to left.\n",
    "# step 3: travese until we reach an index whose element is less than current index element (the one we have take copy of it)\n",
    "# step 4: as we traverse, move the tarversed elements one step right, and once we find an index whose value is less than current element's value\n",
    "#         update the current value next index of the lowest one's we identified.\n",
    "\n",
    "def execute_insertion_sort(input_list: list):\n",
    "    temp_input_list = copy.deepcopy(input_list)\n",
    "    for idx in range(1, len(temp_input_list)):\n",
    "        key = temp_input_list[idx]\n",
    "        ref_compare = idx - 1;\n",
    "        while ref_compare >= 0 and key < temp_input_list[ref_compare]:\n",
    "            temp_input_list[ref_compare + 1] = temp_input_list[ref_compare]\n",
    "            ref_compare -= 1\n",
    "        \n",
    "        temp_input_list[ref_compare + 1] = key\n",
    "    \n",
    "    return temp_input_list\n",
    "\n",
    "print(execute_insertion_sort(sort_list))"
   ]
  },
  {
   "cell_type": "markdown",
   "id": "eb6693cb",
   "metadata": {},
   "source": [
    "#### **Selection Sort**"
   ]
  },
  {
   "cell_type": "code",
   "execution_count": 35,
   "id": "fb3f6463",
   "metadata": {},
   "outputs": [
    {
     "name": "stdout",
     "output_type": "stream",
     "text": [
      "[0, 1, 2, 3, 4, 5, 6, 7, 8, 9, 10, 11, 12, 13, 14, 15, 16, 17, 18, 19, 20, 21, 22, 23, 24, 25, 26, 27, 28, 29]\n"
     ]
    }
   ],
   "source": [
    "def execute_selection_sort(input_list: list) -> list:\n",
    "    temp_unordered_list = copy.deepcopy(input_list)\n",
    "    for idx in range(len(temp_unordered_list) - 1):\n",
    "        current_min_index = idx\n",
    "        for idx2 in range(idx+1, len(temp_unordered_list)):\n",
    "            if temp_unordered_list[idx2] < temp_unordered_list[current_min_index]:\n",
    "                current_min_index = idx2\n",
    "        \n",
    "        temp = temp_unordered_list[idx]\n",
    "        temp_unordered_list[idx] = temp_unordered_list[current_min_index]\n",
    "        temp_unordered_list[current_min_index] = temp\n",
    "    \n",
    "    return temp_unordered_list\n",
    "\n",
    "print(execute_selection_sort(sort_list))"
   ]
  }
 ],
 "metadata": {
  "kernelspec": {
   "display_name": ".venv",
   "language": "python",
   "name": "python3"
  },
  "language_info": {
   "codemirror_mode": {
    "name": "ipython",
    "version": 3
   },
   "file_extension": ".py",
   "mimetype": "text/x-python",
   "name": "python",
   "nbconvert_exporter": "python",
   "pygments_lexer": "ipython3",
   "version": "3.13.2"
  }
 },
 "nbformat": 4,
 "nbformat_minor": 5
}
