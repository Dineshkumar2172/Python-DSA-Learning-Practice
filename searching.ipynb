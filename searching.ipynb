{
 "cells": [
  {
   "cell_type": "markdown",
   "id": "3407ee2f",
   "metadata": {},
   "source": [
    "# **Searching Algorithms**"
   ]
  },
  {
   "cell_type": "code",
   "execution_count": 13,
   "id": "9f93df2f",
   "metadata": {},
   "outputs": [],
   "source": [
    "import time\n",
    "import random"
   ]
  },
  {
   "cell_type": "code",
   "execution_count": 16,
   "id": "4a2a9e8b",
   "metadata": {},
   "outputs": [],
   "source": [
    "search_list = [random.randint(0, 10000) for i in range(10000)]"
   ]
  },
  {
   "cell_type": "markdown",
   "id": "2b0ff5ed",
   "metadata": {},
   "source": [
    "#### **Linear Search**"
   ]
  },
  {
   "cell_type": "code",
   "execution_count": 28,
   "id": "2a939f2e",
   "metadata": {},
   "outputs": [
    {
     "name": "stdout",
     "output_type": "stream",
     "text": [
      "False\n",
      "Time take to search for element 4 in a given array : 0.000942666782066226\n"
     ]
    }
   ],
   "source": [
    "def linear_search(search_list: list, search_element: int) -> bool:\n",
    "    for element in search_list:\n",
    "        if element == search_element:\n",
    "            return True\n",
    "    return False\n",
    "\n",
    "search_element = int(input(\"Enter the number you wanna search : \"))\n",
    "start_time = time.perf_counter()\n",
    "print(linear_search(search_list, search_element))\n",
    "end_time = time.perf_counter()\n",
    "print(\"Time take to search for element \" + str(search_element) + \" in a given array : \" + str(end_time -  start_time))"
   ]
  },
  {
   "cell_type": "markdown",
   "id": "0feb4f30",
   "metadata": {},
   "source": [
    "#### **Binary Search**"
   ]
  },
  {
   "cell_type": "code",
   "execution_count": 39,
   "id": "9c746918",
   "metadata": {},
   "outputs": [
    {
     "name": "stdout",
     "output_type": "stream",
     "text": [
      "False\n",
      "Time take to search for element 4 in a given array : 0.0006740838289260864\n"
     ]
    }
   ],
   "source": [
    "# one implementation of binary search is by making use of iterative approach\n",
    "\n",
    "'''\n",
    "    [1,2,3,4,5,6,7,8,9,10], assume we are searching for number 3\n",
    "\n",
    "\n",
    "    left            right               mid (left + (right - left) // 2)\n",
    "\n",
    "    0                 9                0 + (9 - 0) // 2 = 0 + 9 // 2 = 0 + 4 = 4\n",
    "    0                 3                0 + (3 - 0) // 2 = 0 + 3 // 2 = 0 + 1 = 1\n",
    "    2                 3                2 + (3 - 2) // 2 = 2 + 1 // 2 = 2 + 0 = 2 (element at index 2 is the number we are searcing for, stop searching)\n",
    "\n",
    "'''\n",
    "\n",
    "def binary_search_iter(search_list: list, search_element: int) -> bool:\n",
    "    left, right = 0, len(search_list) - 1\n",
    "    while left <= right:\n",
    "        mid = left + (right - left) // 2\n",
    "        if search_list[mid] == search_element:\n",
    "            return True;\n",
    "        \n",
    "        if search_list[mid] > search_element:\n",
    "            right = mid - 1\n",
    "        else:\n",
    "            left = mid + 1\n",
    "    \n",
    "    return False\n",
    "\n",
    "search_element = int(input(\"Enter the number you wanna search : \"))\n",
    "start_time = time.perf_counter()\n",
    "print(binary_search_iter(search_list, search_element))\n",
    "end_time = time.perf_counter()\n",
    "print(\"Time take to search for element \" + str(search_element) + \" in a given array : \" + str(end_time -  start_time))"
   ]
  },
  {
   "cell_type": "code",
   "execution_count": 40,
   "id": "8058cc04",
   "metadata": {},
   "outputs": [
    {
     "name": "stdout",
     "output_type": "stream",
     "text": [
      "False\n",
      "Time take to search for element 4 in a given array : 0.00039125001057982445\n"
     ]
    }
   ],
   "source": [
    "# another implementation using recursion method\n",
    "def binary_search_recur(left: int, right: int, search_list: list, search_element: int) -> False:\n",
    "    if (left <= right):\n",
    "        mid = left + (right - left) // 2\n",
    "        if search_list[mid] == search_element: return True\n",
    "        if search_list[mid] > search_element:\n",
    "            return binary_search_recur(left, mid - 1, search_list, search_element)\n",
    "        else:\n",
    "            return binary_search_recur(mid + 1, right, search_list, search_element)\n",
    "    \n",
    "    return False\n",
    "\n",
    "search_element = int(input(\"Enter the number you wanna search : \"))\n",
    "start_time = time.perf_counter()\n",
    "print(binary_search_recur(0, len(search_list) - 1, search_list, search_element))\n",
    "end_time = time.perf_counter()\n",
    "print(\"Time take to search for element \" + str(search_element) + \" in a given array : \" + str(end_time -  start_time))"
   ]
  },
  {
   "cell_type": "code",
   "execution_count": null,
   "id": "1421b992",
   "metadata": {},
   "outputs": [],
   "source": []
  }
 ],
 "metadata": {
  "kernelspec": {
   "display_name": ".venv",
   "language": "python",
   "name": "python3"
  },
  "language_info": {
   "codemirror_mode": {
    "name": "ipython",
    "version": 3
   },
   "file_extension": ".py",
   "mimetype": "text/x-python",
   "name": "python",
   "nbconvert_exporter": "python",
   "pygments_lexer": "ipython3",
   "version": "3.13.2"
  }
 },
 "nbformat": 4,
 "nbformat_minor": 5
}
