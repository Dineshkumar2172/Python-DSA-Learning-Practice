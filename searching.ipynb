{
 "cells": [
  {
   "cell_type": "markdown",
   "id": "3407ee2f",
   "metadata": {},
   "source": [
    "# **Searching Algorithms**"
   ]
  },
  {
   "cell_type": "markdown",
   "id": "2b0ff5ed",
   "metadata": {},
   "source": [
    "#### **Linear Search**"
   ]
  },
  {
   "cell_type": "code",
   "execution_count": 1,
   "id": "2a939f2e",
   "metadata": {},
   "outputs": [
    {
     "name": "stdout",
     "output_type": "stream",
     "text": [
      "True\n"
     ]
    }
   ],
   "source": [
    "def linear_search(search_list: list, search_element: int) -> bool:\n",
    "    for element in search_list:\n",
    "        if element == search_element:\n",
    "            return True\n",
    "    return False\n",
    "\n",
    "linear_list = [1, 2, 3, 4, 5, 6, 7]\n",
    "search_element = int(input(\"Enter the number you wanna search : \"))\n",
    "print(linear_search(linear_list, search_element))"
   ]
  },
  {
   "cell_type": "markdown",
   "id": "0feb4f30",
   "metadata": {},
   "source": [
    "#### **Binary Search**"
   ]
  },
  {
   "cell_type": "code",
   "execution_count": null,
   "id": "9c746918",
   "metadata": {},
   "outputs": [],
   "source": []
  }
 ],
 "metadata": {
  "kernelspec": {
   "display_name": ".venv",
   "language": "python",
   "name": "python3"
  },
  "language_info": {
   "codemirror_mode": {
    "name": "ipython",
    "version": 3
   },
   "file_extension": ".py",
   "mimetype": "text/x-python",
   "name": "python",
   "nbconvert_exporter": "python",
   "pygments_lexer": "ipython3",
   "version": "3.13.2"
  }
 },
 "nbformat": 4,
 "nbformat_minor": 5
}
