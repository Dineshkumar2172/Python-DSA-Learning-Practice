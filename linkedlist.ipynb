{
 "cells": [
  {
   "cell_type": "markdown",
   "id": "2fd58d75",
   "metadata": {},
   "source": [
    "# **Sorting Algorithm**"
   ]
  },
  {
   "cell_type": "code",
   "execution_count": 44,
   "id": "f3ab9966",
   "metadata": {},
   "outputs": [],
   "source": [
    "import copy"
   ]
  },
  {
   "cell_type": "markdown",
   "id": "dfb1ab66",
   "metadata": {},
   "source": [
    "#### **Singly LinkedList**"
   ]
  },
  {
   "cell_type": "code",
   "execution_count": 70,
   "id": "ee5c7f68",
   "metadata": {},
   "outputs": [],
   "source": [
    "# defining the single linked list structure\n",
    "class SinglyNode:\n",
    "    def __init__(self, data: int):\n",
    "        self.data = data\n",
    "        self.next = None\n",
    "    \n",
    "    def __str__(self) -> str:\n",
    "        return str(self.data)"
   ]
  },
  {
   "cell_type": "code",
   "execution_count": 89,
   "id": "05bd3f16",
   "metadata": {},
   "outputs": [],
   "source": [
    "class SinglyLinkedList:    \n",
    "    def __init__(self):\n",
    "        self.head = None\n",
    "        pass\n",
    "\n",
    "    # method to add new node at the end of the linkedlist\n",
    "    def add_node(self, data: int):\n",
    "        new_node = SinglyNode(data)\n",
    "        current = self.head\n",
    "        if current == None:\n",
    "            self.head = new_node\n",
    "            return\n",
    "\n",
    "        while current.next != None:\n",
    "            current = current.next\n",
    "        \n",
    "        current.next = new_node\n",
    "        return\n",
    "    \n",
    "    # method to add new node at a specific index of the linkedlist\n",
    "    def add_node_at_index(self, data: int, index: int) -> None:\n",
    "        \n",
    "        new_node = SinglyNode(data) # create a new node\n",
    "\n",
    "        if index == 0:\n",
    "            next_node = self.head\n",
    "            self.head = new_node\n",
    "            new_node.next = next_node\n",
    "            return\n",
    "\n",
    "        current = self.head\n",
    "        for i in range(index - 1):\n",
    "            print(current)\n",
    "            current = current.next\n",
    "\n",
    "        next = current.next\n",
    "        current.next = new_node\n",
    "        new_node.next = next\n",
    "        return\n",
    "    \n",
    "    def display(self) -> None:\n",
    "        current = self.head\n",
    "        print(\"head\", end = \" -> \")\n",
    "        while current != None:\n",
    "            print(current, end = \" -> \")\n",
    "            current = current.next"
   ]
  },
  {
   "cell_type": "code",
   "execution_count": 93,
   "id": "c8b385a9",
   "metadata": {},
   "outputs": [
    {
     "name": "stdout",
     "output_type": "stream",
     "text": [
      "head -> 21 -> 1 -> 0 -> 3 -> 2 -> 10 -> 20 -> 30 -> 40 -> "
     ]
    }
   ],
   "source": [
    "linked_list = SinglyLinkedList()\n",
    "linked_list.add_node(10)\n",
    "linked_list.add_node(20)\n",
    "linked_list.add_node(30)\n",
    "linked_list.add_node(40)\n",
    "linked_list.add_node_at_index(1, 0)\n",
    "linked_list.add_node_at_index(2, 1)\n",
    "linked_list.add_node_at_index(3, 1)\n",
    "linked_list.add_node_at_index(0, 1)\n",
    "linked_list.add_node_at_index(21, 0)\n",
    "linked_list.display()"
   ]
  },
  {
   "cell_type": "markdown",
   "id": "c6303a0a",
   "metadata": {},
   "source": [
    "#### **Doubly LinkedList**"
   ]
  },
  {
   "cell_type": "code",
   "execution_count": null,
   "id": "9ee8d65a",
   "metadata": {},
   "outputs": [],
   "source": []
  }
 ],
 "metadata": {
  "kernelspec": {
   "display_name": ".venv",
   "language": "python",
   "name": "python3"
  },
  "language_info": {
   "codemirror_mode": {
    "name": "ipython",
    "version": 3
   },
   "file_extension": ".py",
   "mimetype": "text/x-python",
   "name": "python",
   "nbconvert_exporter": "python",
   "pygments_lexer": "ipython3",
   "version": "3.13.2"
  }
 },
 "nbformat": 4,
 "nbformat_minor": 5
}
