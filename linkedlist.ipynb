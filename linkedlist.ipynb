{
 "cells": [
  {
   "cell_type": "markdown",
   "id": "2fd58d75",
   "metadata": {},
   "source": [
    "# **Sorting Algorithm**"
   ]
  },
  {
   "cell_type": "code",
   "execution_count": 1,
   "id": "f3ab9966",
   "metadata": {},
   "outputs": [],
   "source": [
    "import copy"
   ]
  },
  {
   "cell_type": "markdown",
   "id": "dfb1ab66",
   "metadata": {},
   "source": [
    "#### **Singly LinkedList**"
   ]
  },
  {
   "cell_type": "code",
   "execution_count": 2,
   "id": "ee5c7f68",
   "metadata": {},
   "outputs": [],
   "source": [
    "# defining the single linked list structure\n",
    "class SinglyNode:\n",
    "    def __init__(self, data: int):\n",
    "        self.data = data\n",
    "        self.next = None\n",
    "    \n",
    "    def __str__(self) -> str:\n",
    "        return str(self.data)"
   ]
  },
  {
   "cell_type": "code",
   "execution_count": 99,
   "id": "05bd3f16",
   "metadata": {},
   "outputs": [],
   "source": [
    "class SinglyLinkedList:    \n",
    "    def __init__(self):\n",
    "        self.head = None\n",
    "        pass\n",
    "\n",
    "    # method to add new node at the end of the linkedlist\n",
    "    def add_node(self, data: int):\n",
    "        new_node = SinglyNode(data)\n",
    "        current = self.head\n",
    "        if current == None:\n",
    "            self.head = new_node\n",
    "            return\n",
    "\n",
    "        while current.next != None:\n",
    "            current = current.next\n",
    "        \n",
    "        current.next = new_node\n",
    "        return\n",
    "    \n",
    "    # method to add new node at a specific index of the linkedlist\n",
    "    def add_node_at_index(self, data: int, index: int) -> None:\n",
    "        \n",
    "        new_node = SinglyNode(data) # create a new node\n",
    "\n",
    "        if index == 0:\n",
    "            next_node = self.head\n",
    "            self.head = new_node\n",
    "            new_node.next = next_node\n",
    "            return\n",
    "\n",
    "        current = self.head\n",
    "        for i in range(index - 1):\n",
    "            print(current)\n",
    "            current = current.next\n",
    "\n",
    "        next = current.next\n",
    "        current.next = new_node\n",
    "        new_node.next = next\n",
    "        return\n",
    "    \n",
    "    # deletes node by values - removes first occurence\n",
    "    def delete_node_by_value(self, data: int, all: bool) -> None:\n",
    "        if self.head == None: return\n",
    "\n",
    "        dummy_node = SinglyNode(-1)\n",
    "        dummy_node.next = self.head\n",
    "        current_node = dummy_node\n",
    "        prev_node = None\n",
    "        while current_node != None:\n",
    "            if current_node.data == data:\n",
    "                print(f\"current_node : {current_node.data}, prev_node : {prev_node.data}\")\n",
    "                prev_node.next = current_node.next\n",
    "                if not all: break\n",
    "\n",
    "                current_node = prev_node.next\n",
    "                continue\n",
    "            \n",
    "            prev_node = current_node\n",
    "            current_node = current_node.next\n",
    "        \n",
    "        self.display()\n",
    "    \n",
    "    # deletes \n",
    "    def delete_node_by_index(self, index: int) -> None:\n",
    "        if self.head == None: return\n",
    "        if index == 0:\n",
    "            self.head = self.head.next\n",
    "            self.display()\n",
    "            return\n",
    "\n",
    "        current_node, ref = self.head, 1\n",
    "        while current_node != None and ref != index:\n",
    "            current_node = current_node.next\n",
    "            ref += 1\n",
    "\n",
    "        if current_node != None: current_node.next = current_node.next.next\n",
    "        self.display()\n",
    "        \n",
    "    \n",
    "    def display(self) -> None:\n",
    "        current = self.head\n",
    "        print(\"head\", end = \" -> \")\n",
    "        while current != None:\n",
    "            print(current, end = \" -> \")\n",
    "            current = current.next\n",
    "        \n",
    "        print()"
   ]
  },
  {
   "cell_type": "code",
   "execution_count": 100,
   "id": "d945fd6a",
   "metadata": {},
   "outputs": [],
   "source": [
    "# -1 -> 2 -> 21 -> 1 -> 0 -> 3 -> 2 -> 10 -> 20 -> 30 -> 40 -> 2 -> 2"
   ]
  },
  {
   "cell_type": "code",
   "execution_count": 101,
   "id": "c8b385a9",
   "metadata": {},
   "outputs": [
    {
     "name": "stdout",
     "output_type": "stream",
     "text": [
      "head -> 2 -> 21 -> 1 -> 0 -> 3 -> 2 -> 10 -> 20 -> 30 -> 40 -> 2 -> 2 -> \n",
      "current_node : 2, prev_node : -1\n",
      "current_node : 2, prev_node : 3\n",
      "current_node : 2, prev_node : 40\n",
      "current_node : 2, prev_node : 40\n",
      "head -> 2 -> 21 -> 1 -> 0 -> 3 -> 10 -> 20 -> 30 -> 40 -> \n",
      "head -> 2 -> 1 -> 0 -> 3 -> 10 -> 20 -> 30 -> 40 -> \n",
      "head -> 2 -> 0 -> 3 -> 10 -> 20 -> 30 -> 40 -> \n",
      "head -> 0 -> 3 -> 10 -> 20 -> 30 -> 40 -> \n"
     ]
    }
   ],
   "source": [
    "linked_list = SinglyLinkedList()\n",
    "linked_list.add_node(10)\n",
    "linked_list.add_node(20)\n",
    "linked_list.add_node(30)\n",
    "linked_list.add_node(40)\n",
    "linked_list.add_node_at_index(1, 0)\n",
    "linked_list.add_node_at_index(2, 1)\n",
    "linked_list.add_node_at_index(3, 1)\n",
    "linked_list.add_node_at_index(0, 1)\n",
    "linked_list.add_node_at_index(21, 0)\n",
    "linked_list.add_node(2)\n",
    "linked_list.add_node(2)\n",
    "linked_list.add_node_at_index(2, 0)\n",
    "linked_list.display()\n",
    "\n",
    "linked_list.delete_node_by_value(2, True)\n",
    "linked_list.delete_node_by_index(1)\n",
    "linked_list.delete_node_by_index(1)\n",
    "linked_list.delete_node_by_index(0)\n"
   ]
  },
  {
   "cell_type": "markdown",
   "id": "c6303a0a",
   "metadata": {},
   "source": [
    "#### **Doubly LinkedList**"
   ]
  },
  {
   "cell_type": "code",
   "execution_count": null,
   "id": "9ee8d65a",
   "metadata": {},
   "outputs": [],
   "source": []
  }
 ],
 "metadata": {
  "kernelspec": {
   "display_name": ".venv",
   "language": "python",
   "name": "python3"
  },
  "language_info": {
   "codemirror_mode": {
    "name": "ipython",
    "version": 3
   },
   "file_extension": ".py",
   "mimetype": "text/x-python",
   "name": "python",
   "nbconvert_exporter": "python",
   "pygments_lexer": "ipython3",
   "version": "3.13.2"
  }
 },
 "nbformat": 4,
 "nbformat_minor": 5
}
